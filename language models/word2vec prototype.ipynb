{
 "cells": [
  {
   "cell_type": "code",
   "execution_count": 1,
   "metadata": {
    "collapsed": false,
    "deletable": true,
    "editable": true
   },
   "outputs": [
    {
     "name": "stderr",
     "output_type": "stream",
     "text": [
      "Using Theano backend.\n"
     ]
    }
   ],
   "source": [
    "import numpy as np\n",
    "from matplotlib import pyplot as plt\n",
    "import pickle as pk\n",
    "%matplotlib inline\n",
    "\n",
    "import keras\n",
    "from keras.layers import Dense, Activation, Input, Dropout\n",
    "from keras.models import Model"
   ]
  },
  {
   "cell_type": "code",
   "execution_count": 2,
   "metadata": {
    "collapsed": true,
    "deletable": true,
    "editable": true
   },
   "outputs": [],
   "source": [
    "f = open('./data.txt')\n",
    "d = f.read()\n",
    "f.close()\n",
    "\n",
    "data = d[1260:]\n",
    "data = data.lower().decode('utf-8')\n",
    "import re\n",
    "\n",
    "p = re.sub('[^A-Za-z]+', ' ', data)\n",
    "ds = p.split()"
   ]
  },
  {
   "cell_type": "code",
   "execution_count": 3,
   "metadata": {
    "collapsed": false,
    "deletable": true,
    "editable": true
   },
   "outputs": [
    {
     "name": "stdout",
     "output_type": "stream",
     "text": [
      "1781 1781 (35456, 1781)\n"
     ]
    }
   ],
   "source": [
    "bow = pk.load(open('./bow.pkl', 'rb'))\n",
    "rev_bow = pk.load(open('./rev_bow.pkl', 'rb'))\n",
    "vecs = np.load('./all_word_data.npy')\n",
    "\n",
    "print len(bow.keys()), len(rev_bow.keys()), vecs.shape"
   ]
  },
  {
   "cell_type": "code",
   "execution_count": 4,
   "metadata": {
    "collapsed": false,
    "deletable": true,
    "editable": true
   },
   "outputs": [
    {
     "name": "stdout",
     "output_type": "stream",
     "text": [
      "it\n",
      "is\n",
      "often\n",
      "enough\n",
      "and\n",
      "always\n",
      "with\n",
      "great\n",
      "to\n",
      "me\n"
     ]
    }
   ],
   "source": [
    "for ix in range(10):\n",
    "    print bow[vecs[ix].argmax()]"
   ]
  },
  {
   "cell_type": "code",
   "execution_count": 5,
   "metadata": {
    "collapsed": true,
    "deletable": true,
    "editable": true
   },
   "outputs": [],
   "source": [
    "X = np.zeros((vecs.shape[0]-1, vecs.shape[1]*2))\n",
    "\n",
    "for ix in range(X.shape[0]-1):\n",
    "    X[ix] = np.hstack((vecs[ix], vecs[ix+1]))"
   ]
  },
  {
   "cell_type": "code",
   "execution_count": 6,
   "metadata": {
    "collapsed": false,
    "deletable": true,
    "editable": true
   },
   "outputs": [
    {
     "name": "stdout",
     "output_type": "stream",
     "text": [
      "(35455, 3562) (35455, 1781)\n"
     ]
    }
   ],
   "source": [
    "y = vecs[1:]\n",
    "\n",
    "print X.shape, y.shape"
   ]
  },
  {
   "cell_type": "code",
   "execution_count": 7,
   "metadata": {
    "collapsed": false
   },
   "outputs": [
    {
     "name": "stdout",
     "output_type": "stream",
     "text": [
      "(30136, 3562) (5319, 3562)\n",
      "(30136, 1781) (5319, 1781)\n"
     ]
    }
   ],
   "source": [
    "split = int(0.85 * X.shape[0])\n",
    "\n",
    "X_train = X[:split]\n",
    "X_val = X[split:]\n",
    "y_train = y[:split]\n",
    "y_val = y[split:]\n",
    "\n",
    "print X_train.shape, X_val.shape\n",
    "print y_train.shape, y_val.shape"
   ]
  },
  {
   "cell_type": "code",
   "execution_count": 8,
   "metadata": {
    "collapsed": false
   },
   "outputs": [
    {
     "name": "stdout",
     "output_type": "stream",
     "text": [
      "____________________________________________________________________________________________________\n",
      "Layer (type)                     Output Shape          Param #     Connected to                     \n",
      "====================================================================================================\n",
      "input_1 (InputLayer)             (None, 3562)          0                                            \n",
      "____________________________________________________________________________________________________\n",
      "dense_1 (Dense)                  (None, 50)            178150      input_1[0][0]                    \n",
      "____________________________________________________________________________________________________\n",
      "dropout_1 (Dropout)              (None, 50)            0           dense_1[0][0]                    \n",
      "____________________________________________________________________________________________________\n",
      "dense_2 (Dense)                  (None, 1781)          90831       dropout_1[0][0]                  \n",
      "====================================================================================================\n",
      "Total params: 268,981\n",
      "Trainable params: 268,981\n",
      "Non-trainable params: 0\n",
      "____________________________________________________________________________________________________\n"
     ]
    }
   ],
   "source": [
    "embedding = 50\n",
    "\n",
    "inp = Input(shape=(3562,))\n",
    "emb = Dense(embedding, activation='tanh')(inp)\n",
    "emb = Dropout(0.32)(emb)\n",
    "out = Dense(1781, activation='softmax')(emb)\n",
    "\n",
    "model = Model(input=inp, output=out)\n",
    "model.summary()\n",
    "model.compile(loss='categorical_crossentropy', optimizer='adam', metrics=['accuracy'])\n",
    "encoder = Model(input=inp, output=emb)"
   ]
  },
  {
   "cell_type": "code",
   "execution_count": 9,
   "metadata": {
    "collapsed": false
   },
   "outputs": [
    {
     "name": "stdout",
     "output_type": "stream",
     "text": [
      "Train on 30136 samples, validate on 5319 samples\n",
      "Epoch 1/30\n",
      "19s - loss: 5.9960 - acc: 0.2006 - val_loss: 5.3932 - val_acc: 0.2704\n",
      "Epoch 2/30\n",
      "18s - loss: 4.2080 - acc: 0.3595 - val_loss: 4.4200 - val_acc: 0.4330\n",
      "Epoch 3/30\n",
      "20s - loss: 3.2180 - acc: 0.5357 - val_loss: 3.7045 - val_acc: 0.5524\n",
      "Epoch 4/30\n",
      "20s - loss: 2.4842 - acc: 0.6655 - val_loss: 3.2442 - val_acc: 0.6114\n",
      "Epoch 5/30\n",
      "21s - loss: 1.9921 - acc: 0.7434 - val_loss: 2.9223 - val_acc: 0.6719\n",
      "Epoch 6/30\n",
      "20s - loss: 1.6442 - acc: 0.8052 - val_loss: 2.6809 - val_acc: 0.6999\n",
      "Epoch 7/30\n",
      "20s - loss: 1.3683 - acc: 0.8480 - val_loss: 2.4970 - val_acc: 0.7280\n",
      "Epoch 8/30\n",
      "17s - loss: 1.1491 - acc: 0.8791 - val_loss: 2.3660 - val_acc: 0.7447\n",
      "Epoch 9/30\n",
      "17s - loss: 0.9661 - acc: 0.9023 - val_loss: 2.2702 - val_acc: 0.7554\n",
      "Epoch 10/30\n",
      "18s - loss: 0.8152 - acc: 0.9191 - val_loss: 2.1892 - val_acc: 0.7680\n",
      "Epoch 11/30\n",
      "19s - loss: 0.6921 - acc: 0.9340 - val_loss: 2.1209 - val_acc: 0.7753\n",
      "Epoch 12/30\n",
      "18s - loss: 0.5827 - acc: 0.9466 - val_loss: 2.0599 - val_acc: 0.7819\n",
      "Epoch 13/30\n",
      "18s - loss: 0.4921 - acc: 0.9581 - val_loss: 2.0021 - val_acc: 0.7876\n",
      "Epoch 14/30\n",
      "18s - loss: 0.4140 - acc: 0.9667 - val_loss: 1.9447 - val_acc: 0.7949\n",
      "Epoch 15/30\n",
      "19s - loss: 0.3458 - acc: 0.9759 - val_loss: 1.8959 - val_acc: 0.8020\n",
      "Epoch 16/30\n",
      "19s - loss: 0.2884 - acc: 0.9821 - val_loss: 1.8455 - val_acc: 0.8090\n",
      "Epoch 17/30\n",
      "18s - loss: 0.2374 - acc: 0.9875 - val_loss: 1.7971 - val_acc: 0.8141\n",
      "Epoch 18/30\n",
      "18s - loss: 0.1947 - acc: 0.9911 - val_loss: 1.7552 - val_acc: 0.8221\n",
      "Epoch 19/30\n",
      "19s - loss: 0.1615 - acc: 0.9938 - val_loss: 1.7105 - val_acc: 0.8284\n",
      "Epoch 20/30\n",
      "18s - loss: 0.1313 - acc: 0.9954 - val_loss: 1.6729 - val_acc: 0.8331\n",
      "Epoch 21/30\n",
      "19s - loss: 0.1083 - acc: 0.9963 - val_loss: 1.6355 - val_acc: 0.8357\n",
      "Epoch 22/30\n",
      "17s - loss: 0.0889 - acc: 0.9976 - val_loss: 1.5994 - val_acc: 0.8404\n",
      "Epoch 23/30\n",
      "17s - loss: 0.0747 - acc: 0.9982 - val_loss: 1.5665 - val_acc: 0.8432\n",
      "Epoch 24/30\n",
      "17s - loss: 0.0617 - acc: 0.9983 - val_loss: 1.5349 - val_acc: 0.8453\n",
      "Epoch 25/30\n",
      "17s - loss: 0.0505 - acc: 0.9990 - val_loss: 1.5089 - val_acc: 0.8481\n",
      "Epoch 26/30\n",
      "19s - loss: 0.0423 - acc: 0.9991 - val_loss: 1.4815 - val_acc: 0.8520\n",
      "Epoch 27/30\n",
      "18s - loss: 0.0362 - acc: 0.9995 - val_loss: 1.4562 - val_acc: 0.8552\n",
      "Epoch 28/30\n",
      "17s - loss: 0.0310 - acc: 0.9996 - val_loss: 1.4352 - val_acc: 0.8592\n",
      "Epoch 29/30\n",
      "18s - loss: 0.0264 - acc: 0.9998 - val_loss: 1.4172 - val_acc: 0.8616\n",
      "Epoch 30/30\n",
      "18s - loss: 0.0224 - acc: 0.9997 - val_loss: 1.3986 - val_acc: 0.8635\n"
     ]
    }
   ],
   "source": [
    "hist = model.fit(X_train, y_train,\n",
    "                nb_epoch=30,\n",
    "                shuffle=True,\n",
    "                batch_size=100,\n",
    "                validation_data=(X_val, y_val), verbose=2)"
   ]
  },
  {
   "cell_type": "code",
   "execution_count": 10,
   "metadata": {
    "collapsed": false
   },
   "outputs": [
    {
     "data": {
      "text/plain": [
       "[<matplotlib.lines.Line2D at 0x7fbecdfa3f50>]"
      ]
     },
     "execution_count": 10,
     "metadata": {},
     "output_type": "execute_result"
    },
    {
     "data": {
      "image/png": "[encoded data removed]",
      "text/plain": [
       "<matplotlib.figure.Figure at 0x7fbece1eb410>"
      ]
     },
     "metadata": {},
     "output_type": "display_data"
    },
    {
     "data": {
      "image/png": "[encoded data removed]",
      "text/plain": [
       "<matplotlib.figure.Figure at 0x7fbecdfbaf10>"
      ]
     },
     "metadata": {},
     "output_type": "display_data"
    }
   ],
   "source": [
    "th = hist.history\n",
    "\n",
    "plt.figure(0)\n",
    "plt.plot(th['loss'], 'b')\n",
    "plt.plot(th['val_loss'], 'g')\n",
    "\n",
    "plt.figure(1)\n",
    "plt.plot(th['acc'], 'b')\n",
    "plt.plot(th['val_acc'], 'g')"
   ]
  },
  {
   "cell_type": "code",
   "execution_count": 11,
   "metadata": {
    "collapsed": true
   },
   "outputs": [],
   "source": [
    "a = encoder.predict(X)\n",
    "# print a[0]"
   ]
  },
  {
   "cell_type": "code",
   "execution_count": 12,
   "metadata": {
    "collapsed": false
   },
   "outputs": [
    {
     "name": "stdout",
     "output_type": "stream",
     "text": [
      "1781\n"
     ]
    }
   ],
   "source": [
    "w2v = {}\n",
    "alpha = 0.8\n",
    "for ix in range(X.shape[0]):\n",
    "    try:\n",
    "        old_vec = w2v[bow[y[ix].argmax()]]\n",
    "        new_vec = alpha*old_vec + (1-alpha)*a[ix]\n",
    "        w2v[bow[y[ix].argmax()]] = new_vec\n",
    "    except:\n",
    "        w2v[bow[y[ix].argmax()]] = a[ix]\n",
    "print len(w2v.keys())"
   ]
  },
  {
   "cell_type": "code",
   "execution_count": 13,
   "metadata": {
    "collapsed": true
   },
   "outputs": [],
   "source": [
    "def similarity(a1, a2):\n",
    "    return np.dot(a1, a2)/np.sqrt((a1**2).sum()*(a2**2).sum())"
   ]
  },
  {
   "cell_type": "code",
   "execution_count": 14,
   "metadata": {
    "collapsed": false
   },
   "outputs": [
    {
     "name": "stdout",
     "output_type": "stream",
     "text": [
      "0.180764\n"
     ]
    }
   ],
   "source": [
    "v1 = w2v['it']\n",
    "v2 = w2v['this']\n",
    "print similarity(v1, v2)"
   ]
  },
  {
   "cell_type": "code",
   "execution_count": null,
   "metadata": {
    "collapsed": true
   },
   "outputs": [],
   "source": []
  }
 ],
 "metadata": {
  "kernelspec": {
   "display_name": "Python 2",
   "language": "python",
   "name": "python2"
  },
  "language_info": {
   "codemirror_mode": {
    "name": "ipython",
    "version": 2
   },
   "file_extension": ".py",
   "mimetype": "text/x-python",
   "name": "python",
   "nbconvert_exporter": "python",
   "pygments_lexer": "ipython2",
   "version": "2.7.12"
  }
 },
 "nbformat": 4,
 "nbformat_minor": 2
}
