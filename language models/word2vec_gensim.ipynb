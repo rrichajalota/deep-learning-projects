{
 "cells": [
  {
   "cell_type": "code",
   "execution_count": 1,
   "metadata": {
    "collapsed": true
   },
   "outputs": [],
   "source": [
    "import numpy as np\n",
    "from matplotlib import pyplot as plt\n",
    "import pickle as pk\n",
    "%matplotlib inline\n",
    "import gensim"
   ]
  },
  {
   "cell_type": "code",
   "execution_count": 2,
   "metadata": {
    "collapsed": true
   },
   "outputs": [],
   "source": [
    "f = open('./data.txt')\n",
    "d = f.read()\n",
    "f.close()\n",
    "\n",
    "data = d[1260:]\n",
    "data = data.lower().decode('utf-8')\n",
    "import re\n",
    "\n",
    "p = re.sub('[^A-Za-z.]+', ' ', data)\n",
    "ds = p.split('.')"
   ]
  },
  {
   "cell_type": "code",
   "execution_count": 3,
   "metadata": {
    "collapsed": false
   },
   "outputs": [
    {
     "data": {
      "text/plain": [
       "u'it is often enough and always with great surprise intimated to me that there is something both ordinary and unusual in all my writings from the birth of tragedy to the recently published prelude to a philosophy of the future they all contain i have been told snares and nets for short sighted birds and something that is almost a constant subtle incitement to an overturning of habitual opinions and of approved customs'"
      ]
     },
     "execution_count": 3,
     "metadata": {},
     "output_type": "execute_result"
    }
   ],
   "source": [
    "ds[0]"
   ]
  },
  {
   "cell_type": "code",
   "execution_count": 4,
   "metadata": {
    "collapsed": true
   },
   "outputs": [],
   "source": [
    "for ix in range(len(ds)):\n",
    "    ds[ix] = ds[ix].split()"
   ]
  },
  {
   "cell_type": "code",
   "execution_count": 5,
   "metadata": {
    "collapsed": false
   },
   "outputs": [
    {
     "name": "stdout",
     "output_type": "stream",
     "text": [
      "1462\n"
     ]
    }
   ],
   "source": [
    "print len(ds)"
   ]
  },
  {
   "cell_type": "code",
   "execution_count": 6,
   "metadata": {
    "collapsed": true
   },
   "outputs": [],
   "source": [
    "model = gensim.models.Word2Vec(ds, min_count=2)"
   ]
  },
  {
   "cell_type": "code",
   "execution_count": 7,
   "metadata": {
    "collapsed": false
   },
   "outputs": [
    {
     "data": {
      "text/plain": [
       "[(u'an', 0.9999775886535645),\n",
       " (u'a', 0.9999756217002869),\n",
       " (u'from', 0.9999727606773376),\n",
       " (u'with', 0.9999723434448242),\n",
       " (u'which', 0.9999712705612183),\n",
       " (u'or', 0.9999711513519287),\n",
       " (u'their', 0.9999708533287048),\n",
       " (u'and', 0.9999707937240601),\n",
       " (u'in', 0.9999706745147705),\n",
       " (u'are', 0.9999690055847168)]"
      ]
     },
     "execution_count": 7,
     "metadata": {},
     "output_type": "execute_result"
    }
   ],
   "source": [
    "model.similar_by_word('to')"
   ]
  },
  {
   "cell_type": "code",
   "execution_count": null,
   "metadata": {
    "collapsed": true
   },
   "outputs": [],
   "source": []
  }
 ],
 "metadata": {
  "kernelspec": {
   "display_name": "Python 2",
   "language": "python",
   "name": "python2"
  },
  "language_info": {
   "codemirror_mode": {
    "name": "ipython",
    "version": 2
   },
   "file_extension": ".py",
   "mimetype": "text/x-python",
   "name": "python",
   "nbconvert_exporter": "python",
   "pygments_lexer": "ipython2",
   "version": "2.7.12"
  }
 },
 "nbformat": 4,
 "nbformat_minor": 2
}
